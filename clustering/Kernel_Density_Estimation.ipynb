{
  "cells": [
    {
      "cell_type": "markdown",
      "metadata": {
        "id": "dcqYvUxJI9RB"
      },
      "source": [
        "# Kernel Density Estimation"
      ]
    },
    {
      "cell_type": "markdown",
      "metadata": {
        "deletable": true,
        "editable": true,
        "id": "v_exKvcWI9RD"
      },
      "source": [
        "Previously we covered [Gaussian mixture models](Gaussian_Mixtures.ipynb), which are a kind of hybrid between a clustering estimator and a density estimator.\n",
        "Recall that a density estimator is an algorithm that takes a $D$-dimensional dataset and produces an estimate of the $D$-dimensional probability distribution that data is drawn from.\n",
        "The GMM algorithm accomplishes this by representing the density as a weighted sum of Gaussian distributions.\n",
        "*Kernel density estimation* (KDE) is in some senses an algorithm that takes the mixture-of-Gaussians idea to its logical extreme: it uses a mixture consisting of one Gaussian component *per point*, resulting in an essentially nonparametric estimator of density.\n",
        "In this chapter, we will explore the motivation and uses of KDE.\n",
        "\n",
        "We begin with the standard imports:"
      ]
    },
    {
      "cell_type": "code",
      "execution_count": 19,
      "metadata": {
        "deletable": true,
        "editable": true,
        "id": "O8i46np2I9RD",
        "jupyter": {
          "outputs_hidden": false
        }
      },
      "outputs": [],
      "source": [
        "%matplotlib inline\n",
        "import matplotlib.pyplot as plt\n",
        "plt.style.use('seaborn-v0_8-whitegrid')\n",
        "import numpy as np"
      ]
    },
    {
      "cell_type": "markdown",
      "metadata": {
        "deletable": true,
        "editable": true,
        "id": "MXlztcdvI9RE"
      },
      "source": [
        "## Motivating Kernel Density Estimation: Histograms\n",
        "\n",
        "As mentioned previously, a density estimator is an algorithm that seeks to model the probability distribution that generated a dataset.\n",
        "For one-dimensional data, you are probably already familiar with one simple density estimator: the histogram.\n",
        "A histogram divides the data into discrete bins, counts the number of points that fall in each bin, and then visualizes the results in an intuitive manner.\n",
        "\n",
        "For example, let's create some data that is drawn from two normal distributions:"
      ]
    },
    {
      "cell_type": "code",
      "execution_count": 25,
      "metadata": {
        "deletable": true,
        "editable": true,
        "id": "hLHJOLQkI9RF",
        "jupyter": {
          "outputs_hidden": false
        }
      },
      "outputs": [],
      "source": [
        "def make_data(N, f=0.3, rseed=1):\n",
        "    rand = np.random.RandomState(rseed)\n",
        "    x = rand.randn(N)\n",
        "    x[int(f * N):] += 5\n",
        "    return x\n",
        "\n",
        "x = make_data(1000)"
      ]
    },
    {
      "cell_type": "markdown",
      "metadata": {
        "deletable": true,
        "editable": true,
        "id": "wnPHd_GDI9RF"
      },
      "source": [
        "We have previously seen that the standard count-based histogram can be created with the `plt.hist` function.\n",
        "By specifying the `density` parameter of the histogram, we end up with a normalized histogram where the height of the bins does not reflect counts, but instead reflects probability density (see the following figure):"
      ]
    },
    {
      "cell_type": "code",
      "execution_count": 26,
      "metadata": {
        "deletable": true,
        "editable": true,
        "id": "UdfRNGWiI9RF",
        "jupyter": {
          "outputs_hidden": false
        },
        "outputId": "af2d7285-5c08-4c6e-acb3-60c8109a44ae"
      },
      "outputs": [
        {
          "data": {
            "image/png": "[encoded data removed]",
            "text/plain": [
              "<Figure size 640x480 with 1 Axes>"
            ]
          },
          "metadata": {},
          "output_type": "display_data"
        }
      ],
      "source": [
        "plt.title(\"Histogram of feature values\")\n",
        "hist = plt.hist(x, bins=30, density=True)"
      ]
    },
    {
      "cell_type": "markdown",
      "metadata": {
        "deletable": true,
        "editable": true,
        "id": "N8s2KQovI9RG"
      },
      "source": [
        "Notice that for equal binning, this normalization simply changes the scale on the y-axis, leaving the relative heights essentially the same as in a histogram built from counts.\n",
        "This normalization is chosen so that the total area under the histogram is equal to 1, as we can confirm by looking at the output of the histogram function:"
      ]
    },
    {
      "cell_type": "code",
      "execution_count": 27,
      "metadata": {
        "deletable": true,
        "editable": true,
        "id": "sbTwkwtZI9RG",
        "jupyter": {
          "outputs_hidden": false
        },
        "outputId": "814fe66e-c455-42c7-92ed-20d663f9f27c"
      },
      "outputs": [
        {
          "data": {
            "text/plain": [
              "1.0"
            ]
          },
          "execution_count": 27,
          "metadata": {},
          "output_type": "execute_result"
        }
      ],
      "source": [
        "density, bins, patches = hist\n",
        "widths = bins[1:] - bins[:-1]\n",
        "(density * widths).sum()"
      ]
    },
    {
      "cell_type": "markdown",
      "metadata": {
        "deletable": true,
        "editable": true,
        "id": "gTnZeIkaI9RG"
      },
      "source": [
        "One of the issues with using a histogram as a density estimator is that the choice of bin size and location can lead to representations that have qualitatively different features.\n",
        "For example, if we look at a version of this data with only 20 points, the choice of how to draw the bins can lead to an entirely different interpretation of the data!\n",
        "Consider this example, visualized in the following figure:"
      ]
    },
    {
      "cell_type": "code",
      "execution_count": 37,
      "metadata": {
        "deletable": true,
        "editable": true,
        "id": "IILnfGplI9RH",
        "tags": []
      },
      "outputs": [
        {
          "data": {
            "text/plain": [
              "(array([-4.4       , -2.73333333, -1.06666667,  0.6       ,  2.26666667,\n",
              "         3.93333333,  5.6       ,  7.26666667,  8.93333333, 10.6       ]),\n",
              " array([-5.        , -3.33333333, -1.66666667,  0.        ,  1.66666667,\n",
              "         3.33333333,  5.        ,  6.66666667,  8.33333333, 10.        ]))"
            ]
          },
          "execution_count": 37,
          "metadata": {},
          "output_type": "execute_result"
        }
      ],
      "source": [
        "x = make_data(20)\n",
        "bins = np.linspace(-5, 10, 10)\n",
        "bins + 0.6, bins"
      ]
    },
    {
      "cell_type": "code",
      "execution_count": 32,
      "metadata": {
        "deletable": true,
        "editable": true,
        "id": "DUwBcHM5I9RH",
        "jupyter": {
          "outputs_hidden": false
        },
        "outputId": "ea3ee0a5-47a9-4db8-ff21-b18566b6c7bc"
      },
      "outputs": [
        {
          "data": {
            "image/png": "[encoded data removed]",
            "text/plain": [
              "<Figure size 1200x400 with 2 Axes>"
            ]
          },
          "metadata": {},
          "output_type": "display_data"
        }
      ],
      "source": [
        "fig, ax = plt.subplots(1, 2, figsize=(12, 4),\n",
        "                       sharex=True, sharey=True,\n",
        "                       subplot_kw={'xlim':(-4, 9),\n",
        "                                   'ylim':(-0.02, 0.3)})\n",
        "ax[0].set_title(\"Without offset\")\n",
        "ax[1].set_title(\"With offset\")\n",
        "fig.subplots_adjust(wspace=0.05)\n",
        "for i, offset in enumerate([0.0, 0.6]):  # offsets\n",
        "    ax[i].hist(x, bins=bins + offset, density=True)\n",
        "    ax[i].plot(x, np.full_like(x, -0.01), '|r',\n",
        "               markeredgewidth=1)"
      ]
    },
    {
      "cell_type": "markdown",
      "metadata": {
        "deletable": true,
        "editable": true,
        "id": "gzTt8SuvI9RH"
      },
      "source": [
        "On the left, the histogram makes clear that this is a bimodal distribution.\n",
        "On the right, we see a unimodal distribution with a long tail.\n",
        "Without seeing the preceding code, you would probably not guess that these two histograms were built from the same data. With that in mind, how can you trust the intuition that histograms confer?\n",
        "And how might we improve on this?\n",
        "\n",
        "Stepping back, we can think of a histogram as a stack of blocks, where we stack one block within each bin on top of each point in the dataset.\n",
        "Let's view this directly (see the following figure):"
      ]
    },
    {
      "cell_type": "code",
      "execution_count": 33,
      "metadata": {
        "deletable": true,
        "editable": true,
        "id": "uWGv2_QvI9RH",
        "jupyter": {
          "outputs_hidden": false
        },
        "outputId": "c4e52a07-4902-4f05-c352-0465572da9ad"
      },
      "outputs": [
        {
          "data": {
            "text/plain": [
              "(-0.2, 8.0)"
            ]
          },
          "execution_count": 33,
          "metadata": {},
          "output_type": "execute_result"
        },
        {
          "data": {
            "image/png": "[encoded data removed]",
            "text/plain": [
              "<Figure size 640x480 with 1 Axes>"
            ]
          },
          "metadata": {},
          "output_type": "display_data"
        }
      ],
      "source": [
        "fig, ax = plt.subplots()\n",
        "bins = np.arange(-3, 8)\n",
        "ax.plot(x, np.full_like(x, -0.1), '|k',\n",
        "        markeredgewidth=1)\n",
        "for count, edge in zip(*np.histogram(x, bins)):\n",
        "    for i in range(count):\n",
        "        ax.add_patch(plt.Rectangle(\n",
        "            (edge, i), 1, 1, ec='black', alpha=0.5))\n",
        "ax.set_xlim(-4, 8)\n",
        "ax.set_ylim(-0.2, 8)"
      ]
    },
    {
      "cell_type": "markdown",
      "metadata": {
        "deletable": true,
        "editable": true,
        "id": "sheeVQVBI9RH"
      },
      "source": [
        "The problem with our two binnings stems from the fact that the height of the block stack often reflects not the actual density of points nearby, but coincidences of how the bins align with the data points.\n",
        "This misalignment between points and their blocks is a potential cause of the poor histogram results seen here.\n",
        "But what if, instead of stacking the blocks aligned with the *bins*, we were to stack the blocks aligned with the *points they represent*?\n",
        "If we do this, the blocks won't be aligned, but we can add their contributions at each location along the x-axis to find the result.\n",
        "Let's try this (see the following figure):"
      ]
    },
    {
      "cell_type": "code",
      "execution_count": 34,
      "metadata": {
        "deletable": true,
        "editable": true,
        "id": "7p6sHseQI9RH",
        "jupyter": {
          "outputs_hidden": false
        },
        "outputId": "8f190f52-8fdd-463f-9271-518aefb35497"
      },
      "outputs": [
        {
          "data": {
            "image/png": "[encoded data removed]",
            "text/plain": [
              "<Figure size 640x480 with 1 Axes>"
            ]
          },
          "metadata": {},
          "output_type": "display_data"
        }
      ],
      "source": [
        "x_d = np.linspace(-4, 8, 2000)\n",
        "density = sum((abs(xi - x_d) < 0.5) for xi in x)\n",
        "\n",
        "plt.fill_between(x_d, density, alpha=0.5)\n",
        "plt.plot(x, np.full_like(x, -0.1), '|k', markeredgewidth=1)\n",
        "\n",
        "plt.axis([-4, 8, -0.2, 8]);"
      ]
    },
    {
      "cell_type": "markdown",
      "metadata": {
        "deletable": true,
        "editable": true,
        "id": "9nt_vZXmI9RI"
      },
      "source": [
        "The result looks a bit messy, but it's a much more robust reflection of the actual data characteristics than is the standard histogram.\n",
        "Still, the rough edges are not aesthetically pleasing, nor are they reflective of any true properties of the data.\n",
        "In order to smooth them out, we might decide to replace the blocks at each location with a smooth function, like a Gaussian.\n",
        "Let's use a standard normal curve at each point instead of a block (see the following figure):"
      ]
    },
    {
      "cell_type": "code",
      "execution_count": 35,
      "metadata": {
        "deletable": true,
        "editable": true,
        "id": "C_3z0DdvI9RI",
        "jupyter": {
          "outputs_hidden": false
        },
        "outputId": "d19ce4b7-58cc-40ad-d26c-a71eb863c1e6"
      },
      "outputs": [
        {
          "data": {
            "image/png": "[encoded data removed]",
            "text/plain": [
              "<Figure size 640x480 with 1 Axes>"
            ]
          },
          "metadata": {},
          "output_type": "display_data"
        }
      ],
      "source": [
        "from scipy.stats import norm\n",
        "x_d = np.linspace(-4, 8, 1000)\n",
        "density = sum(norm(xi).pdf(x_d) for xi in x)\n",
        "\n",
        "plt.fill_between(x_d, density, alpha=0.5)\n",
        "plt.plot(x, np.full_like(x, -0.1), '|r', markeredgewidth=1)\n",
        "\n",
        "plt.axis([-4, 8, -0.2, 5]);"
      ]
    },
    {
      "cell_type": "markdown",
      "metadata": {
        "deletable": true,
        "editable": true,
        "id": "uFvfGueNI9RI"
      },
      "source": [
        "This smoothed-out plot, with a Gaussian distribution contributed at the location of each input point, gives a much more accurate idea of the shape of the data distribution, and one that has much less variance (i.e., changes much less in response to differences in sampling).\n",
        "\n",
        "What we've landed on in the last two plots is what's called kernel density estimation in one dimension: we have placed a \"kernel\"—a square or \"tophat\"-shaped kernel in the former, a Gaussian kernel in the latter—at the location of each point, and used their sum as an estimate of density.\n",
        "With this intuition in mind, we'll now explore kernel density estimation in more detail."
      ]
    },
    {
      "cell_type": "markdown",
      "metadata": {
        "deletable": true,
        "editable": true,
        "id": "mzPAlBT8I9RI"
      },
      "source": [
        "## Kernel Density Estimation in Practice\n",
        "\n",
        "The free parameters of kernel density estimation are the *kernel*, which specifies the shape of the distribution placed at each point, and the *kernel bandwidth*, which controls the size of the kernel at each point.\n",
        "In practice, there are many kernels you might use for kernel density estimation: in particular, the Scikit-Learn KDE implementation supports six kernels, which you can read about in the [\"Density Estimation\" section](http://scikit-learn.org/stable/modules/density.html) of the documentation.\n",
        "\n",
        "While there are several versions of KDE implemented in Python (notably in the SciPy and `statsmodels` packages), I prefer to use Scikit-Learn's version because of its efficiency and flexibility.\n",
        "It is implemented in the `sklearn.neighbors.KernelDensity` estimator, which handles KDE in multiple dimensions with one of six kernels and one of a couple dozen distance metrics.\n",
        "Because KDE can be fairly computationally intensive, the Scikit-Learn estimator uses a tree-based algorithm under the hood and can trade off computation time for accuracy using the `atol` (absolute tolerance) and `rtol` (relative tolerance) parameters.\n",
        "The kernel bandwidth can be determined using Scikit-Learn's standard cross-validation tools, as we will soon see.\n",
        "\n",
        "Let's first show a simple example of replicating the previous plot using the Scikit-Learn `KernelDensity` estimator (see the following figure):"
      ]
    },
    {
      "cell_type": "code",
      "execution_count": null,
      "metadata": {
        "deletable": true,
        "editable": true,
        "id": "FwjkFkU4I9RI",
        "jupyter": {
          "outputs_hidden": false
        },
        "outputId": "2121f153-a903-453b-fa95-9838732531b7"
      },
      "outputs": [],
      "source": [
        "from sklearn.neighbors import KernelDensity\n",
        "\n",
        "# instantiate and fit the KDE model\n",
        "kde = KernelDensity(bandwidth=1.0, kernel='gaussian')\n",
        "kde.fit(x[:, None])\n",
        "\n",
        "# score_samples returns the log of the probability density\n",
        "logprob = kde.score_samples(x_d[:, None])\n",
        "\n",
        "plt.fill_between(x_d, np.exp(logprob), alpha=0.5)\n",
        "plt.plot(x, np.full_like(x, -0.01), '|r', markeredgewidth=1)\n",
        "plt.ylim(-0.02, 0.22);"
      ]
    },
    {
      "cell_type": "markdown",
      "metadata": {
        "deletable": true,
        "editable": true,
        "id": "i_2Jnd1iI9RI"
      },
      "source": [
        "The result here is normalized such that the area under the curve is equal to 1.\n",
        "\n",
        "### Simple 1d Kernel Density Estimation\n",
        "\n",
        "This example uses the KernelDensity class to demonstrate the principles of Kernel Density Estimation in one dimension.\n",
        "\n",
        "The first plot shows one of the problems with using histograms to visualize the density of points in 1D. Intuitively, a histogram can be thought of as a scheme in which a unit “block” is stacked above each point on a regular grid. As the top two panels show, however, the choice of gridding for these blocks can lead to wildly divergent ideas about the underlying shape of the density distribution. If we instead center each block on the point it represents, we get the estimate shown in the bottom left panel. This is a kernel density estimation with a “top hat” kernel. This idea can be generalized to other kernel shapes: the bottom-right panel of the first figure shows a Gaussian kernel density estimate over the same distribution.\n",
        "\n",
        "Scikit-learn implements efficient kernel density estimation using either a Ball Tree or KD Tree structure, through the KernelDensity estimator. The available kernels are shown in the second figure of this example.\n",
        "\n",
        "The third figure compares kernel density estimates for a distribution of 100 samples in 1 dimension. Though this example uses 1D distributions, kernel density estimation is easily and efficiently extensible to higher dimensions as well."
      ]
    },
    {
      "cell_type": "code",
      "execution_count": null,
      "metadata": {},
      "outputs": [],
      "source": [
        "import matplotlib.pyplot as plt\n",
        "import numpy as np\n",
        "from scipy.stats import norm\n",
        "\n",
        "from sklearn.neighbors import KernelDensity\n",
        "\n",
        "# ----------------------------------------------------------------------\n",
        "# Plot the progression of histograms to kernels\n",
        "np.random.seed(1)\n",
        "N = 20\n",
        "X = np.concatenate(\n",
        "    (np.random.normal(0, 1, int(0.3 * N)), np.random.normal(5, 1, int(0.7 * N)))\n",
        ")[:, np.newaxis]\n",
        "X_plot = np.linspace(-5, 10, 1000)[:, np.newaxis]\n",
        "bins = np.linspace(-5, 10, 10)\n",
        "\n",
        "fig, ax = plt.subplots(2, 2, sharex=True, sharey=True)\n",
        "fig.subplots_adjust(hspace=0.05, wspace=0.05)\n",
        "\n",
        "# histogram 1\n",
        "ax[0, 0].hist(X[:, 0], bins=bins, fc=\"#AAAAFF\", density=True)\n",
        "ax[0, 0].text(-3.5, 0.31, \"Histogram\")\n",
        "\n",
        "# histogram 2\n",
        "ax[0, 1].hist(X[:, 0], bins=bins + 0.75, fc=\"#AAAAFF\", density=True)\n",
        "ax[0, 1].text(-3.5, 0.31, \"Histogram, bins shifted\")\n",
        "\n",
        "# tophat KDE\n",
        "kde = KernelDensity(kernel=\"tophat\", bandwidth=0.75).fit(X)\n",
        "log_dens = kde.score_samples(X_plot)\n",
        "ax[1, 0].fill(X_plot[:, 0], np.exp(log_dens), fc=\"#AAAAFF\")\n",
        "ax[1, 0].text(-3.5, 0.31, \"Tophat Kernel Density\")\n",
        "\n",
        "# Gaussian KDE\n",
        "kde = KernelDensity(kernel=\"gaussian\", bandwidth=0.75).fit(X)\n",
        "log_dens = kde.score_samples(X_plot)\n",
        "ax[1, 1].fill(X_plot[:, 0], np.exp(log_dens), fc=\"#AAAAFF\")\n",
        "ax[1, 1].text(-3.5, 0.31, \"Gaussian Kernel Density\")\n",
        "\n",
        "for axi in ax.ravel():\n",
        "    axi.plot(X[:, 0], np.full(X.shape[0], -0.01), \"+k\")\n",
        "    axi.set_xlim(-4, 9)\n",
        "    axi.set_ylim(-0.02, 0.34)\n",
        "\n",
        "for axi in ax[:, 0]:\n",
        "    axi.set_ylabel(\"Normalized Density\")\n",
        "\n",
        "for axi in ax[1, :]:\n",
        "    axi.set_xlabel(\"x\")\n",
        "\n",
        "# ----------------------------------------------------------------------\n",
        "# Plot all available kernels\n",
        "X_plot = np.linspace(-6, 6, 1000)[:, None]\n",
        "X_src = np.zeros((1, 1))\n",
        "\n",
        "fig, ax = plt.subplots(2, 3, sharex=True, sharey=True)\n",
        "fig.subplots_adjust(left=0.05, right=0.95, hspace=0.05, wspace=0.05)\n",
        "\n",
        "\n",
        "def format_func(x, loc):\n",
        "    if x == 0:\n",
        "        return \"0\"\n",
        "    elif x == 1:\n",
        "        return \"h\"\n",
        "    elif x == -1:\n",
        "        return \"-h\"\n",
        "    else:\n",
        "        return \"%ih\" % x\n",
        "\n",
        "\n",
        "for i, kernel in enumerate(\n",
        "    [\"gaussian\", \"tophat\", \"epanechnikov\", \"exponential\", \"linear\", \"cosine\"]\n",
        "):\n",
        "    axi = ax.ravel()[i]\n",
        "    log_dens = KernelDensity(kernel=kernel).fit(X_src).score_samples(X_plot)\n",
        "    axi.fill(X_plot[:, 0], np.exp(log_dens), \"-k\", fc=\"#AAAAFF\")\n",
        "    axi.text(-2.6, 0.95, kernel)\n",
        "\n",
        "    axi.xaxis.set_major_formatter(plt.FuncFormatter(format_func))\n",
        "    axi.xaxis.set_major_locator(plt.MultipleLocator(1))\n",
        "    axi.yaxis.set_major_locator(plt.NullLocator())\n",
        "\n",
        "    axi.set_ylim(0, 1.05)\n",
        "    axi.set_xlim(-2.9, 2.9)\n",
        "\n",
        "ax[0, 1].set_title(\"Available Kernels\")\n",
        "\n",
        "# ----------------------------------------------------------------------\n",
        "# Plot a 1D density example\n",
        "N = 100\n",
        "np.random.seed(1)\n",
        "X = np.concatenate(\n",
        "    (np.random.normal(0, 1, int(0.3 * N)), np.random.normal(5, 1, int(0.7 * N)))\n",
        ")[:, np.newaxis]\n",
        "\n",
        "X_plot = np.linspace(-5, 10, 1000)[:, np.newaxis]\n",
        "\n",
        "true_dens = 0.3 * norm(0, 1).pdf(X_plot[:, 0]) + 0.7 * norm(5, 1).pdf(X_plot[:, 0])\n",
        "\n",
        "fig, ax = plt.subplots()\n",
        "ax.fill(X_plot[:, 0], true_dens, fc=\"black\", alpha=0.2, label=\"input distribution\")\n",
        "colors = [\"navy\", \"cornflowerblue\", \"darkorange\"]\n",
        "kernels = [\"gaussian\", \"tophat\", \"epanechnikov\"]\n",
        "lw = 2\n",
        "\n",
        "for color, kernel in zip(colors, kernels):\n",
        "    kde = KernelDensity(kernel=kernel, bandwidth=0.5).fit(X)\n",
        "    log_dens = kde.score_samples(X_plot)\n",
        "    ax.plot(\n",
        "        X_plot[:, 0],\n",
        "        np.exp(log_dens),\n",
        "        color=color,\n",
        "        lw=lw,\n",
        "        linestyle=\"-\",\n",
        "        label=\"kernel = '{0}'\".format(kernel),\n",
        "    )\n",
        "\n",
        "ax.text(6, 0.38, \"N={0} points\".format(N))\n",
        "\n",
        "ax.legend(loc=\"upper left\")\n",
        "ax.plot(X[:, 0], -0.005 - 0.01 * np.random.random(X.shape[0]), \"+k\")\n",
        "\n",
        "ax.set_xlim(-4, 9)\n",
        "ax.set_ylim(-0.02, 0.4)\n",
        "plt.show()"
      ]
    },
    {
      "cell_type": "markdown",
      "metadata": {
        "deletable": true,
        "editable": true,
        "id": "cB21w3fYI9RI"
      },
      "source": [
        "## Selecting the Bandwidth via Cross-Validation\n",
        "\n",
        "The final estimate produced by a KDE procedure can be quite sensitive to the choice of bandwidth, which is the knob that controls the bias–variance trade-off in the estimate of density.\n",
        "Too narrow a bandwidth leads to a high-variance estimate (i.e., overfitting), where the presence or absence of a single point makes a large difference. Too wide a bandwidth leads to a high-bias estimate (i.e., underfitting), where the structure in the data is washed out by the wide kernel.\n",
        "\n",
        "There is a long history in statistics of methods to quickly estimate the best bandwidth based on rather stringent assumptions about the data: if you look up the KDE implementations in the SciPy and `statsmodels` packages, for example, you will see implementations based on some of these rules.\n",
        "\n",
        "In machine learning contexts, we've seen that such hyperparameter tuning often is done empirically via a cross-validation approach.\n",
        "With this in mind, Scikit-Learn's `KernelDensity` estimator is designed such that it can be used directly within the package's standard grid search tools.\n",
        "Here we will use `GridSearchCV` to optimize the bandwidth for the preceding dataset.\n",
        "Because we are looking at such a small dataset, we will use leave-one-out cross-validation, which minimizes the reduction in training set size for each cross-validation trial:"
      ]
    },
    {
      "cell_type": "code",
      "execution_count": null,
      "metadata": {
        "deletable": true,
        "editable": true,
        "id": "SB266iyRI9RJ",
        "jupyter": {
          "outputs_hidden": false
        }
      },
      "outputs": [],
      "source": [
        "from sklearn.model_selection import GridSearchCV\n",
        "from sklearn.model_selection import LeaveOneOut\n",
        "\n",
        "bandwidths = 10 ** np.linspace(-1, 1, 100)\n",
        "grid = GridSearchCV(KernelDensity(kernel='gaussian'),\n",
        "                    {'bandwidth': bandwidths},\n",
        "                    cv=LeaveOneOut())\n",
        "grid.fit(x[:, None]);"
      ]
    },
    {
      "cell_type": "markdown",
      "metadata": {
        "deletable": true,
        "editable": true,
        "id": "_zCeLc6WI9RJ"
      },
      "source": [
        "Now we can find the choice of bandwidth that maximizes the score (which in this case defaults to the log-likelihood):"
      ]
    },
    {
      "cell_type": "code",
      "execution_count": null,
      "metadata": {
        "deletable": true,
        "editable": true,
        "id": "MSWzsd5fI9RJ",
        "jupyter": {
          "outputs_hidden": false
        },
        "outputId": "3f8bfcbf-62da-4396-9e6d-43d0bfdc7917"
      },
      "outputs": [],
      "source": [
        "grid.best_params_"
      ]
    },
    {
      "cell_type": "markdown",
      "metadata": {
        "deletable": true,
        "editable": true,
        "id": "warmkFBkI9RJ"
      },
      "source": [
        "The optimal bandwidth happens to be very close to what we used in the example plot earlier, where the bandwidth was 1.0 (i.e., the default width of `scipy.stats.norm`)."
      ]
    },
    {
      "cell_type": "markdown",
      "metadata": {
        "deletable": true,
        "editable": true,
        "id": "TpSqy6LMI9RJ"
      },
      "source": [
        "## Example: Not-so-Naive Bayes\n",
        "\n",
        "This example looks at Bayesian generative classification with KDE, and demonstrates how to use the Scikit-Learn architecture to create a custom estimator.\n",
        "\n",
        "In [Naive Bayes Classification](Naive-Bayes.ipynb) we explored naive Bayesian classification, in which we create a simple generative model for each class, and use these models to build a fast classifier.\n",
        "For Gaussian naive Bayes, the generative model is a simple axis-aligned Gaussian.\n",
        "With a density estimation algorithm like KDE, we can remove the \"naive\" element and perform the same classification with a more sophisticated generative model for each class.\n",
        "It's still Bayesian classification, but it's no longer naive.\n",
        "\n",
        "The general approach for generative classification is this:\n",
        "\n",
        "1. Split the training data by label.\n",
        "\n",
        "2. For each set, fit a KDE to obtain a generative model of the data.\n",
        "   This allows you, for any observation $x$ and label $y$, to compute a likelihood $P(x~|~y)$.\n",
        "   \n",
        "3. From the number of examples of each class in the training set, compute the *class prior*, $P(y)$.\n",
        "\n",
        "4. For an unknown point $x$, the posterior probability for each class is $P(y~|~x) \\propto P(x~|~y)P(y)$.\n",
        "   The class that maximizes this posterior is the label assigned to the point.\n",
        "\n",
        "The algorithm is straightforward and intuitive to understand; the more difficult piece is couching it within the Scikit-Learn framework in order to make use of the grid search and cross-validation architecture.\n",
        "\n",
        "This is the code that implements the algorithm within the Scikit-Learn framework; we will step through it following the code block:"
      ]
    },
    {
      "cell_type": "code",
      "execution_count": null,
      "metadata": {
        "deletable": true,
        "editable": true,
        "id": "cydKTPT4I9RJ",
        "tags": []
      },
      "outputs": [],
      "source": [
        "from sklearn.base import BaseEstimator, ClassifierMixin\n",
        "\n",
        "\n",
        "class KDEClassifier(BaseEstimator, ClassifierMixin):\n",
        "    \"\"\"Bayesian generative classification based on KDE\n",
        "\n",
        "    Parameters\n",
        "    ----------\n",
        "    bandwidth : float\n",
        "        the kernel bandwidth within each class\n",
        "    kernel : str\n",
        "        the kernel name, passed to KernelDensity\n",
        "    \"\"\"\n",
        "    def __init__(self, bandwidth=1.0, kernel='gaussian'):\n",
        "        self.bandwidth = bandwidth\n",
        "        self.kernel = kernel\n",
        "\n",
        "    def fit(self, X, y):\n",
        "        self.classes_ = np.sort(np.unique(y))\n",
        "        training_sets = [X[y == yi] for yi in self.classes_]\n",
        "        self.models_ = [KernelDensity(bandwidth=self.bandwidth,\n",
        "                                      kernel=self.kernel).fit(Xi)\n",
        "                        for Xi in training_sets]\n",
        "        self.logpriors_ = [np.log(Xi.shape[0] / X.shape[0])\n",
        "                           for Xi in training_sets]\n",
        "        return self\n",
        "\n",
        "    def predict_proba(self, X):\n",
        "        logprobs = np.array([model.score_samples(X)\n",
        "                             for model in self.models_]).T\n",
        "        result = np.exp(logprobs + self.logpriors_)\n",
        "        return result / result.sum(axis=1, keepdims=True)\n",
        "\n",
        "    def predict(self, X):\n",
        "        return self.classes_[np.argmax(self.predict_proba(X), 1)]"
      ]
    },
    {
      "cell_type": "markdown",
      "metadata": {
        "deletable": true,
        "editable": true,
        "id": "0hrpjjWmI9RJ"
      },
      "source": [
        "### Anatomy of a Custom Estimator"
      ]
    },
    {
      "cell_type": "markdown",
      "metadata": {
        "deletable": true,
        "editable": true,
        "id": "WJdeSgM_I9RJ"
      },
      "source": [
        "Let's step through this code and discuss the essential features:\n",
        "\n",
        "```python\n",
        "from sklearn.base import BaseEstimator, ClassifierMixin\n",
        "\n",
        "class KDEClassifier(BaseEstimator, ClassifierMixin):\n",
        "    \"\"\"Bayesian generative classification based on KDE\n",
        "    \n",
        "    Parameters\n",
        "    ----------\n",
        "    bandwidth : float\n",
        "        the kernel bandwidth within each class\n",
        "    kernel : str\n",
        "        the kernel name, passed to KernelDensity\n",
        "    \"\"\"\n",
        "```\n",
        "\n",
        "Each estimator in Scikit-Learn is a class, and it is most convenient for this class to inherit from the `BaseEstimator` class as well as the appropriate mixin, which provides standard functionality.\n",
        "For example, here the `BaseEstimator` contains (among other things) the logic necessary to clone/copy an estimator for use in a cross-validation procedure, and `ClassifierMixin` defines a default `score` method used by such routines."
      ]
    },
    {
      "cell_type": "markdown",
      "metadata": {
        "deletable": true,
        "editable": true,
        "id": "6GfRkwCdI9RJ"
      },
      "source": [
        "Next comes the class initialization method:\n",
        "\n",
        "```python\n",
        "    def __init__(self, bandwidth=1.0, kernel='gaussian'):\n",
        "        self.bandwidth = bandwidth\n",
        "        self.kernel = kernel\n",
        "```\n",
        "\n",
        "This is the actual code that is executed when the object is instantiated with `KDEClassifier`.\n",
        "In Scikit-Learn, it is important that *initialization contains no operations* other than assigning the passed values by name to `self`.\n",
        "This is due to the logic contained in `BaseEstimator` required for cloning and modifying estimators for cross-validation, grid search, and other functions.\n",
        "Similarly, all arguments to `__init__` should be explicit: i.e., `*args` or `**kwargs` should be avoided, as they will not be correctly handled within cross-validation routines."
      ]
    },
    {
      "cell_type": "markdown",
      "metadata": {
        "deletable": true,
        "editable": true,
        "id": "Gw05TbGtI9RK"
      },
      "source": [
        "Next comes the `fit` method, where we handle training data:\n",
        "\n",
        "```python\n",
        "    def fit(self, X, y):\n",
        "        self.classes_ = np.sort(np.unique(y))\n",
        "        training_sets = [X[y == yi] for yi in self.classes_]\n",
        "        self.models_ = [KernelDensity(bandwidth=self.bandwidth,\n",
        "                                      kernel=self.kernel).fit(Xi)\n",
        "                        for Xi in training_sets]\n",
        "        self.logpriors_ = [np.log(Xi.shape[0] / X.shape[0])\n",
        "                           for Xi in training_sets]\n",
        "        return self\n",
        "```\n",
        "\n",
        "Here we find the unique classes in the training data, train a `KernelDensity` model for each class, and compute the class priors based on the number of input samples.\n",
        "Finally, `fit` should always return `self` so that we can chain commands. For example:\n",
        "```python\n",
        "label = model.fit(X, y).predict(X)\n",
        "```\n",
        "Notice that each persistent result of the fit is stored with a trailing underscore (e.g., `self.logpriors_`).\n",
        "This is a convention used in Scikit-Learn so that you can quickly scan the members of an estimator (using IPython's tab completion) and see exactly which members are fit to training data."
      ]
    },
    {
      "cell_type": "markdown",
      "metadata": {
        "deletable": true,
        "editable": true,
        "id": "U0pe5MQuI9RK"
      },
      "source": [
        "Finally, we have the logic for predicting labels on new data:\n",
        "```python\n",
        "    def predict_proba(self, X):\n",
        "        logprobs = np.vstack([model.score_samples(X)\n",
        "                              for model in self.models_]).T\n",
        "        result = np.exp(logprobs + self.logpriors_)\n",
        "        return result / result.sum(axis=1, keepdims=True)\n",
        "        \n",
        "    def predict(self, X):\n",
        "        return self.classes_[np.argmax(self.predict_proba(X), 1)]\n",
        "```\n",
        "Because this is a probabilistic classifier, we first implement `predict_proba`, which returns an array of class probabilities of shape `[n_samples, n_classes]`.\n",
        "Entry `[i, j]` of this array is the posterior probability that sample `i` is a member of class `j`, computed by multiplying the likelihood by the class prior and normalizing.\n",
        "\n",
        "The `predict` method uses these probabilities and simply returns the class with the largest probability."
      ]
    },
    {
      "cell_type": "markdown",
      "metadata": {
        "deletable": true,
        "editable": true,
        "id": "RAoUw6QcI9RK"
      },
      "source": [
        "### Using Our Custom Estimator\n",
        "\n",
        "Let's try this custom estimator on a problem we have seen before: the classification of handwritten digits.\n",
        "Here we will load the digits and compute the cross-validation score for a range of candidate bandwidths using the ``GridSearchCV`` meta-estimator:"
      ]
    },
    {
      "cell_type": "code",
      "execution_count": null,
      "metadata": {
        "deletable": true,
        "editable": true,
        "id": "bmhvyaWiI9RK",
        "jupyter": {
          "outputs_hidden": false
        }
      },
      "outputs": [],
      "source": [
        "from sklearn.datasets import load_digits\n",
        "from sklearn.model_selection import GridSearchCV\n",
        "\n",
        "digits = load_digits()\n",
        "\n",
        "grid = GridSearchCV(KDEClassifier(),\n",
        "                    {'bandwidth': np.logspace(0, 2, 100)})\n",
        "grid.fit(digits.data, digits.target);"
      ]
    },
    {
      "cell_type": "markdown",
      "metadata": {
        "deletable": true,
        "editable": true,
        "id": "Dr6u1sSFI9RK"
      },
      "source": [
        "Next we can plot the cross-validation score as a function of bandwidth (see the following figure):"
      ]
    },
    {
      "cell_type": "code",
      "execution_count": null,
      "metadata": {
        "deletable": true,
        "editable": true,
        "id": "gkDtKTkqI9RK",
        "jupyter": {
          "outputs_hidden": false
        },
        "outputId": "0d8e395c-33fc-4eed-ff40-e6eedb2fd693"
      },
      "outputs": [],
      "source": [
        "fig, ax = plt.subplots()\n",
        "ax.semilogx(np.array(grid.cv_results_['param_bandwidth']),\n",
        "            grid.cv_results_['mean_test_score'])\n",
        "ax.set(title='KDE Model Performance', ylim=(0, 1),\n",
        "       xlabel='bandwidth', ylabel='accuracy')\n",
        "print(f'best param: {grid.best_params_}')\n",
        "print(f'accuracy = {grid.best_score_}')"
      ]
    },
    {
      "cell_type": "markdown",
      "metadata": {
        "deletable": true,
        "editable": true,
        "id": "ccPJrGozI9RK"
      },
      "source": [
        "This indicates that our KDE classifier reaches a cross-validation accuracy of over 96%, compared to around 80% for the naive Bayes classifier:"
      ]
    },
    {
      "cell_type": "code",
      "execution_count": null,
      "metadata": {
        "deletable": true,
        "editable": true,
        "id": "aGhKkmcfI9RO",
        "jupyter": {
          "outputs_hidden": false
        },
        "outputId": "4ba747ae-01cd-47e0-9296-3ab97eda6308"
      },
      "outputs": [],
      "source": [
        "from sklearn.naive_bayes import GaussianNB\n",
        "from sklearn.model_selection import cross_val_score\n",
        "cross_val_score(GaussianNB(), digits.data, digits.target).mean()"
      ]
    },
    {
      "cell_type": "markdown",
      "metadata": {
        "deletable": true,
        "editable": true,
        "id": "zebgNt9kI9RO"
      },
      "source": [
        "One benefit of such a generative classifier is interpretability of results: for each unknown sample, we not only get a probabilistic classification, but a *full model* of the distribution of points we are comparing it to!\n",
        "If desired, this offers an intuitive window into the reasons for a particular classification that algorithms like SVMs and random forests tend to obscure.\n",
        "\n",
        "If you would like to take this further, here are some ideas for improvements that could be made to our KDE classifier model:\n",
        "\n",
        "- You could allow the bandwidth in each class to vary independently.\n",
        "- You could optimize these bandwidths not based on their prediction score, but on the likelihood of the training data under the generative model within each class (i.e. use the scores from `KernelDensity` itself rather than the global prediction accuracy).\n",
        "\n",
        "Finally, if you want some practice building your own estimator, you might tackle building a similar Bayesian classifier using Gaussian mixture models instead of KDE."
      ]
    },
    {
      "cell_type": "markdown",
      "metadata": {},
      "source": [
        "__This example shows how kernel density estimation (KDE), a powerful non-parametric density estimation technique, can be used to learn a generative model for a dataset. With this generative model in place, new samples can be drawn. These new samples reflect the underlying model of the data.__"
      ]
    },
    {
      "cell_type": "code",
      "execution_count": null,
      "metadata": {},
      "outputs": [],
      "source": [
        "import matplotlib.pyplot as plt\n",
        "import numpy as np\n",
        "\n",
        "from sklearn.datasets import load_digits\n",
        "from sklearn.decomposition import PCA\n",
        "from sklearn.model_selection import GridSearchCV\n",
        "from sklearn.neighbors import KernelDensity\n",
        "\n",
        "# load the data\n",
        "digits = load_digits()\n",
        "\n",
        "# project the 64-dimensional data to a lower dimension\n",
        "pca = PCA(n_components=15, whiten=False)\n",
        "data = pca.fit_transform(digits.data)\n",
        "\n",
        "# use grid search cross-validation to optimize the bandwidth\n",
        "params = {\"bandwidth\": np.logspace(-1, 1, 20)}\n",
        "grid = GridSearchCV(KernelDensity(kernel='gaussian'), params)\n",
        "grid.fit(data)\n",
        "\n",
        "print(\"best bandwidth: {0}\".format(grid.best_estimator_.bandwidth))\n",
        "\n",
        "# use the best estimator to compute the kernel density estimate\n",
        "kde = grid.best_estimator_\n",
        "\n",
        "# sample 44 new points from the data\n",
        "new_data = kde.sample(44, random_state=0)\n",
        "new_data = pca.inverse_transform(new_data)\n",
        "\n",
        "# turn data into a 4x11 grid\n",
        "new_data = new_data.reshape((4, 11, -1))\n",
        "real_data = digits.data[:44].reshape((4, 11, -1))\n",
        "\n",
        "# plot real digits and resampled digits\n",
        "fig, ax = plt.subplots(9, 11, subplot_kw=dict(xticks=[], yticks=[]))\n",
        "for j in range(11):\n",
        "    ax[4, j].set_visible(False)\n",
        "    for i in range(4):\n",
        "        im = ax[i, j].imshow(\n",
        "            real_data[i, j].reshape((8, 8)), cmap=plt.cm.binary, interpolation=\"nearest\"\n",
        "        )\n",
        "        im.set_clim(0, 16)\n",
        "        im = ax[i + 5, j].imshow(\n",
        "            new_data[i, j].reshape((8, 8)), cmap=plt.cm.binary, interpolation=\"nearest\"\n",
        "        )\n",
        "        im.set_clim(0, 16)\n",
        "\n",
        "ax[0, 5].set_title(\"Selection from the input data\")\n",
        "ax[5, 5].set_title('\"New\" digits drawn from the kernel density model')\n",
        "\n",
        "plt.show()"
      ]
    },
    {
      "cell_type": "code",
      "execution_count": null,
      "metadata": {},
      "outputs": [],
      "source": []
    }
  ],
  "metadata": {
    "anaconda-cloud": {},
    "colab": {
      "provenance": []
    },
    "jupytext": {
      "formats": "ipynb,md"
    },
    "kernelspec": {
      "display_name": "da5401",
      "language": "python",
      "name": "da5401"
    },
    "language_info": {
      "codemirror_mode": {
        "name": "ipython",
        "version": 3
      },
      "file_extension": ".py",
      "mimetype": "text/x-python",
      "name": "python",
      "nbconvert_exporter": "python",
      "pygments_lexer": "ipython3",
      "version": "3.10.18"
    }
  },
  "nbformat": 4,
  "nbformat_minor": 0
}
